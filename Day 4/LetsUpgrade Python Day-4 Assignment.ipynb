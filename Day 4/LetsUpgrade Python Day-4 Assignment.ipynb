{
 "cells": [
  {
   "cell_type": "markdown",
   "metadata": {},
   "source": [
    "# Question-1: Write down a program in Python for Opening a File and Writing \" I Love LetsUpgrade\" And closeit, and read it back again, and then append some data to it and close it."
   ]
  },
  {
   "cell_type": "code",
   "execution_count": 14,
   "metadata": {},
   "outputs": [],
   "source": [
    "file=open(\"Samplefile.txt\",'w')\n",
    "file.write(\"I Love LetsUpgrade\")    #Creating a file , opening it in write mode , writing the content into file and closing it \n",
    "file.close()"
   ]
  },
  {
   "cell_type": "code",
   "execution_count": 15,
   "metadata": {},
   "outputs": [],
   "source": [
    "f=open(\"Samplefile.txt\",'r')\n",
    "content=f.read()                   #Now opening the file in read mode to read the content in the file and closing it\n",
    "f.close()  "
   ]
  },
  {
   "cell_type": "code",
   "execution_count": 16,
   "metadata": {},
   "outputs": [
    {
     "data": {
      "text/plain": [
       "'I Love LetsUpgrade'"
      ]
     },
     "execution_count": 16,
     "metadata": {},
     "output_type": "execute_result"
    }
   ],
   "source": [
    "content                           #Displaying the content in the file by using content variable in which the content of the file is stored"
   ]
  },
  {
   "cell_type": "code",
   "execution_count": 17,
   "metadata": {},
   "outputs": [],
   "source": [
    "append=open(\"Samplefile.txt\",'a')\n",
    "append.write(\" dedication to teach the students with awesome content\")  #opening the file in append mode to append some data to the already exiting content in the file\n",
    "append.close()"
   ]
  },
  {
   "cell_type": "code",
   "execution_count": 18,
   "metadata": {},
   "outputs": [],
   "source": [
    "show=open(\"Samplefile.txt\",'r')\n",
    "display=show.read()                       #  To show you whether the content is updated in the file or not, I again opened the file in read mode and closed it\n",
    "show.close()  "
   ]
  },
  {
   "cell_type": "code",
   "execution_count": 19,
   "metadata": {},
   "outputs": [
    {
     "data": {
      "text/plain": [
       "'I Love LetsUpgrade dedication to teach the students with awesome content'"
      ]
     },
     "execution_count": 19,
     "metadata": {},
     "output_type": "execute_result"
    }
   ],
   "source": [
    "display                                  # This is the updated content in the file"
   ]
  },
  {
   "cell_type": "code",
   "execution_count": null,
   "metadata": {},
   "outputs": [],
   "source": []
  },
  {
   "cell_type": "markdown",
   "metadata": {},
   "source": [
    "# Question-2: Write a function which can return a Factorial of any numbers as INT, given in the argument."
   ]
  },
  {
   "cell_type": "code",
   "execution_count": 33,
   "metadata": {},
   "outputs": [
    {
     "name": "stdout",
     "output_type": "stream",
     "text": [
      "Enter a number to find its factorial:5\n",
      "The Factoral of the given number is  120\n"
     ]
    }
   ],
   "source": [
    "\n",
    "def fact_function(number):\n",
    "    fact=1\n",
    "    for i in range(2,number+1):      # This is the function which returns factorial value for the given number\n",
    "        fact=fact*i\n",
    "    return fact\n",
    "\n",
    "\n",
    "n=int(input(\"Enter a number to find its factorial:\"))       # Taking input from the user\n",
    "factorial=fact_function(n)                                  # calling the function\n",
    "print(\"The Factoral of the given number is \",factorial)     # printing the factorial value for given number\n",
    "\n"
   ]
  },
  {
   "cell_type": "code",
   "execution_count": null,
   "metadata": {},
   "outputs": [],
   "source": []
  },
  {
   "cell_type": "code",
   "execution_count": null,
   "metadata": {},
   "outputs": [],
   "source": []
  }
 ],
 "metadata": {
  "kernelspec": {
   "display_name": "Python 3",
   "language": "python",
   "name": "python3"
  },
  "language_info": {
   "codemirror_mode": {
    "name": "ipython",
    "version": 3
   },
   "file_extension": ".py",
   "mimetype": "text/x-python",
   "name": "python",
   "nbconvert_exporter": "python",
   "pygments_lexer": "ipython3",
   "version": "3.8.3"
  }
 },
 "nbformat": 4,
 "nbformat_minor": 4
}
